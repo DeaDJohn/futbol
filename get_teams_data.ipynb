{
 "cells": [
  {
   "cell_type": "code",
   "execution_count": 2,
   "metadata": {},
   "outputs": [],
   "source": [
    "import requests\n",
    "from bs4 import BeautifulSoup\n",
    "import pandas as pd\n",
    "import numpy as np\n",
    "import re\n",
    "import pymysql\n",
    "import unicodedata\n",
    "from sqlalchemy import create_engine"
   ]
  },
  {
   "cell_type": "code",
   "execution_count": 5,
   "metadata": {},
   "outputs": [],
   "source": [
    "headers = {\"User-Agent\":\"Mozilla/5.0 (Macintosh; Intel Mac OSX 10_14_3) AppleWebKit/537.36 (KHTML, like Gecko)Chrome/71.0.3578.98 Safari/537.36\", \"Accept\":\"text/html,application/xhtml+xml,application/xml;q=0.9,image/webp,image/apng,*/*;q=0.8\"}\n"
   ]
  },
  {
   "cell_type": "code",
   "execution_count": 6,
   "metadata": {},
   "outputs": [
    {
     "name": "stdout",
     "output_type": "stream",
     "text": [
      "             team_name                                         team_image  \\\n",
      "0       Real Madrid CF  https://tmssl.akamaized.net/images/wappen/head...   \n",
      "1         FC Barcelona  https://tmssl.akamaized.net/images/wappen/head...   \n",
      "2   Atlético de Madrid  https://tmssl.akamaized.net/images/wappen/head...   \n",
      "3        Villarreal CF  https://tmssl.akamaized.net/images/wappen/head...   \n",
      "4        Real Sociedad  https://tmssl.akamaized.net/images/wappen/head...   \n",
      "..                 ...                                                ...   \n",
      "93        ESTAC Troyes  https://tmssl.akamaized.net/images/wappen/head...   \n",
      "94         Toulouse FC  https://tmssl.akamaized.net/images/wappen/head...   \n",
      "95    Clermont Foot 63  https://tmssl.akamaized.net/images/wappen/head...   \n",
      "96          AJ Auxerre  https://tmssl.akamaized.net/images/wappen/head...   \n",
      "97          AC Ajaccio  https://tmssl.akamaized.net/images/wappen/head...   \n",
      "\n",
      "                                         team_profile  \n",
      "0   https://www.transfermarkt.es/real-madrid/start...  \n",
      "1   https://www.transfermarkt.es/fc-barcelona/star...  \n",
      "2   https://www.transfermarkt.es/atletico-madrid/s...  \n",
      "3   https://www.transfermarkt.es/fc-villarreal/sta...  \n",
      "4   https://www.transfermarkt.es/real-sociedad-san...  \n",
      "..                                                ...  \n",
      "93  https://www.transfermarkt.es/es-troyes-ac/star...  \n",
      "94  https://www.transfermarkt.es/fc-toulouse/start...  \n",
      "95  https://www.transfermarkt.es/clermont-foot-63/...  \n",
      "96  https://www.transfermarkt.es/aj-auxerre/starts...  \n",
      "97  https://www.transfermarkt.es/ac-ajaccio/starts...  \n",
      "\n",
      "[98 rows x 3 columns]\n"
     ]
    }
   ],
   "source": [
    "\n",
    "\n",
    "comps_url = [\n",
    "    'https://www.transfermarkt.es/laliga/startseite/wettbewerb/ES1',\n",
    "    'https://www.transfermarkt.es/premier-league/startseite/wettbewerb/GB1',\n",
    "    'https://www.transfermarkt.es/serie-a/startseite/wettbewerb/IT1',\n",
    "    'https://www.transfermarkt.es/1-bundesliga/startseite/wettbewerb/L1',\n",
    "    'https://www.transfermarkt.es/ligue-1/startseite/wettbewerb/FR1'\n",
    "]\n",
    "\n",
    "\n",
    "columns_names = [\"team_name\", \"team_image\", \"team_profile\"]\n",
    "df_teams = pd.DataFrame(columns = columns_names)\n",
    "\n",
    "for comp_url in comps_url:\n",
    "    response_obj = requests.get(comp_url, headers=headers)\n",
    "    page_bs = BeautifulSoup(response_obj.content, 'html.parser')\n",
    "    teams = page_bs.find_all(\"table\", {\"class\": \"items\"})[0].find_all(\"tr\", {\"class\": re.compile(r\"odd|even\")})\n",
    "    for team in teams:\n",
    "        team_name = team.find_all(\"td\", {\"class\": \"hauptlink\"})[0].find(\"a\").text.strip()\n",
    "        team_image = team.find_all(\"td\", {\"class\": \"zentriert\"})[0].find(\"img\").get(\"src\").replace(\"tiny\", \"head\")\n",
    "        team_profile = \"https://www.transfermarkt.es\" + team.find_all(\"td\", {\"class\": \"hauptlink\"})[0].find(\"a\").get(\"href\") + \"plus/1\"\n",
    "        df_teams.loc[len(df_teams)] = [team_name, team_image, team_profile]\n",
    "print(df_teams)"
   ]
  },
  {
   "cell_type": "code",
   "execution_count": 7,
   "metadata": {},
   "outputs": [
    {
     "name": "stdout",
     "output_type": "stream",
     "text": [
      "         country_name                                      country_image\n",
      "0             Bélgica  https://tmssl.akamaized.net/images/flagge/head...\n",
      "1             Ucrania  https://tmssl.akamaized.net/images/flagge/head...\n",
      "2              Brasil  https://tmssl.akamaized.net/images/flagge/head...\n",
      "3             Austria  https://tmssl.akamaized.net/images/flagge/head...\n",
      "4            Alemania  https://tmssl.akamaized.net/images/flagge/head...\n",
      "..                ...                                                ...\n",
      "99   Guayana Francesa  https://tmssl.akamaized.net/images/flagge/head...\n",
      "100             Haití  https://tmssl.akamaized.net/images/flagge/head...\n",
      "101           Comoras  https://tmssl.akamaized.net/images/flagge/head...\n",
      "102         Sudáfrica  https://tmssl.akamaized.net/images/flagge/head...\n",
      "103             Benín  https://tmssl.akamaized.net/images/flagge/head...\n",
      "\n",
      "[104 rows x 2 columns]\n"
     ]
    }
   ],
   "source": [
    "country_column_names = [\"country_name\", \"country_image\"]\n",
    "df_countries = pd.DataFrame(columns=country_column_names)\n",
    "\n",
    "for index, row in df_teams.iterrows():\n",
    "    \n",
    "    url = row[\"team_profile\"]\n",
    "    response_obj = requests.get(url, headers=headers)\n",
    "    page_bs = BeautifulSoup(response_obj.content, 'html.parser')\n",
    "    players = page_bs.find_all(\"table\", {\"class\": \"items\"})[0].find_all(\"tr\", {\"class\": re.compile(r\"odd|even\")})\n",
    "    \n",
    "    for player in players :\n",
    "        player_image_element = player.find_all(\"td\", {\"class\": \"zentriert\"})[2].find(\"img\")\n",
    "        player_country = player_image_element.get(\"title\")\n",
    "        if not any( df_countries['country_name'] == player_country) :\n",
    "            player_country_img = player_image_element.get(\"src\").replace(\"verysmall\", \"head\")\n",
    "            df_countries.loc[len(df_countries)] = [player_country, player_country_img]\n",
    "print(df_countries)"
   ]
  },
  {
   "cell_type": "code",
   "execution_count": 3,
   "metadata": {},
   "outputs": [
    {
     "ename": "NameError",
     "evalue": "name 'df_teams' is not defined",
     "output_type": "error",
     "traceback": [
      "\u001b[0;31m---------------------------------------------------------------------------\u001b[0m",
      "\u001b[0;31mNameError\u001b[0m                                 Traceback (most recent call last)",
      "\u001b[1;32m/home/juanjo/Escritorio/futbol/get_teams_data.ipynb Celda 5\u001b[0m in \u001b[0;36m<cell line: 4>\u001b[0;34m()\u001b[0m\n\u001b[1;32m      <a href='vscode-notebook-cell:/home/juanjo/Escritorio/futbol/get_teams_data.ipynb#ch0000004?line=0'>1</a>\u001b[0m player_column_names \u001b[39m=\u001b[39m [\u001b[39m\"\u001b[39m\u001b[39mplayer_name\u001b[39m\u001b[39m\"\u001b[39m, \u001b[39m\"\u001b[39m\u001b[39mplayer_birth\u001b[39m\u001b[39m\"\u001b[39m, \u001b[39m\"\u001b[39m\u001b[39mplayer_age\u001b[39m\u001b[39m\"\u001b[39m, \u001b[39m\"\u001b[39m\u001b[39mplayer_height\u001b[39m\u001b[39m\"\u001b[39m, \u001b[39m\"\u001b[39m\u001b[39mplayer_pref_foot\u001b[39m\u001b[39m\"\u001b[39m, \u001b[39m\"\u001b[39m\u001b[39mplayer_position\u001b[39m\u001b[39m\"\u001b[39m, \u001b[39m\"\u001b[39m\u001b[39mplayer_sing_date\u001b[39m\u001b[39m\"\u001b[39m, \u001b[39m\"\u001b[39m\u001b[39mplayer_end_contract\u001b[39m\u001b[39m\"\u001b[39m, \u001b[39m\"\u001b[39m\u001b[39mplayer_market_value\u001b[39m\u001b[39m\"\u001b[39m, \u001b[39m\"\u001b[39m\u001b[39mplayer_img\u001b[39m\u001b[39m\"\u001b[39m, \u001b[39m\"\u001b[39m\u001b[39mplayer_country\u001b[39m\u001b[39m\"\u001b[39m]\n\u001b[1;32m      <a href='vscode-notebook-cell:/home/juanjo/Escritorio/futbol/get_teams_data.ipynb#ch0000004?line=1'>2</a>\u001b[0m df_players \u001b[39m=\u001b[39m pd\u001b[39m.\u001b[39mDataFrame(columns \u001b[39m=\u001b[39m player_column_names)\n\u001b[0;32m----> <a href='vscode-notebook-cell:/home/juanjo/Escritorio/futbol/get_teams_data.ipynb#ch0000004?line=3'>4</a>\u001b[0m \u001b[39mfor\u001b[39;00m index, row \u001b[39min\u001b[39;00m df_teams\u001b[39m.\u001b[39miterrows():\n\u001b[1;32m      <a href='vscode-notebook-cell:/home/juanjo/Escritorio/futbol/get_teams_data.ipynb#ch0000004?line=5'>6</a>\u001b[0m     url \u001b[39m=\u001b[39m row[\u001b[39m\"\u001b[39m\u001b[39mteam_profile\u001b[39m\u001b[39m\"\u001b[39m]\n\u001b[1;32m      <a href='vscode-notebook-cell:/home/juanjo/Escritorio/futbol/get_teams_data.ipynb#ch0000004?line=6'>7</a>\u001b[0m     response_obj \u001b[39m=\u001b[39m requests\u001b[39m.\u001b[39mget(url, headers\u001b[39m=\u001b[39mheaders)\n",
      "\u001b[0;31mNameError\u001b[0m: name 'df_teams' is not defined"
     ]
    }
   ],
   "source": [
    "player_column_names = [\"player_name\", \"player_birth\", \"player_age\", \"player_height\", \"player_pref_foot\", \"player_position\", \"player_sing_date\", \"player_end_contract\", \"player_market_value\", \"player_img\", \"player_country\"]\n",
    "df_players = pd.DataFrame(columns = player_column_names)\n",
    "\n",
    "for index, row in df_teams.iterrows():\n",
    "    \n",
    "    url = row[\"team_profile\"]\n",
    "    response_obj = requests.get(url, headers=headers)\n",
    "    page_bs = BeautifulSoup(response_obj.content, 'html.parser')\n",
    "    players = page_bs.find_all(\"table\", {\"class\": \"items\"})[0].find_all(\"tr\", {\"class\": re.compile(r\"odd|even\")})\n",
    "\n",
    "    for player in players :\n",
    "        print(player)"
   ]
  }
 ],
 "metadata": {
  "kernelspec": {
   "display_name": "Python 3.10.4 ('venv': venv)",
   "language": "python",
   "name": "python3"
  },
  "language_info": {
   "codemirror_mode": {
    "name": "ipython",
    "version": 3
   },
   "file_extension": ".py",
   "mimetype": "text/x-python",
   "name": "python",
   "nbconvert_exporter": "python",
   "pygments_lexer": "ipython3",
   "version": "3.10.4"
  },
  "orig_nbformat": 4,
  "vscode": {
   "interpreter": {
    "hash": "4953ec455fc9c5a68d06ee47737ee2818a57209ae70590f9aa090ae64983ad15"
   }
  }
 },
 "nbformat": 4,
 "nbformat_minor": 2
}
